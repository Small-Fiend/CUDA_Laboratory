{
  "nbformat": 4,
  "nbformat_minor": 0,
  "metadata": {
    "colab": {
      "name": "Matrix_Mult.ipynb",
      "provenance": [],
      "collapsed_sections": [],
      "authorship_tag": "ABX9TyOeu+jlqssvXQ1+mYGQcT/F",
      "include_colab_link": true
    },
    "kernelspec": {
      "name": "python3",
      "display_name": "Python 3"
    },
    "language_info": {
      "name": "python"
    },
    "accelerator": "GPU"
  },
  "cells": [
    {
      "cell_type": "markdown",
      "metadata": {
        "id": "view-in-github",
        "colab_type": "text"
      },
      "source": [
        "<a href=\"https://colab.research.google.com/github/Small-Fiend/CUDA_Laboratory/blob/main/MatMult/Matrix_Mult.ipynb\" target=\"_parent\"><img src=\"https://colab.research.google.com/assets/colab-badge.svg\" alt=\"Open In Colab\"/></a>"
      ]
    },
    {
      "cell_type": "code",
      "execution_count": 1,
      "metadata": {
        "id": "JY63Bze-Y_La"
      },
      "outputs": [],
      "source": [
        "import math\n",
        "import random\n",
        "\n",
        "import numpy as np\n",
        "from numba import cuda, int32, jit\n",
        "from tabulate import tabulate\n",
        "\n",
        "import time\n",
        "import datetime\n",
        "\n",
        "import matplotlib.pyplot as plt"
      ]
    },
    {
      "cell_type": "code",
      "source": [
        "# Расчет будет производиться на блоках элементов TPBxTPB\n",
        "TPB = 16\n",
        "# Количество итераций для вычисления среднего затраченного времени\n",
        "ITER_COUNT = 10"
      ],
      "metadata": {
        "id": "6RU6G_O_ZHT9"
      },
      "execution_count": 2,
      "outputs": []
    },
    {
      "cell_type": "code",
      "source": [
        "#Функция создания матриц MxM\n",
        "def create_matrix (M):\n",
        "  A = np.random.randint(1000, size=(M,M))\n",
        "  B = np.random.randint(1000, size=(M,M))\n",
        "  C = np.zeros((M, M), dtype=np.int32)\n",
        "  return (A, B, C)"
      ],
      "metadata": {
        "id": "CrzK98u_o5Vc"
      },
      "execution_count": 3,
      "outputs": []
    },
    {
      "cell_type": "code",
      "source": [
        "M = 100\n",
        "A, B, C = create_matrix (M)\n",
        "print(\"A\", A, \"\\n\", \"B\", B, \"\\n\", \"C\", C)"
      ],
      "metadata": {
        "colab": {
          "base_uri": "https://localhost:8080/"
        },
        "id": "RiOHR3nOF3cE",
        "outputId": "f002cac8-2151-4dd7-84ba-7499829fad73"
      },
      "execution_count": 4,
      "outputs": [
        {
          "output_type": "stream",
          "name": "stdout",
          "text": [
            "A [[734 494 374 ... 414 678 612]\n",
            " [683 760 963 ... 969 499 248]\n",
            " [227 295 652 ... 688 945 158]\n",
            " ...\n",
            " [796 470 138 ... 119 866  86]\n",
            " [651   7 522 ... 965 104 825]\n",
            " [479 247 688 ... 127 990 668]] \n",
            " B [[545 719 560 ... 804  42 998]\n",
            " [763 830 878 ... 523 537 604]\n",
            " [678 949 203 ...  55 541 611]\n",
            " ...\n",
            " [497 176 191 ... 537 718 521]\n",
            " [551 330 124 ... 656  82 544]\n",
            " [959 472 417 ... 946 733  19]] \n",
            " C [[0 0 0 ... 0 0 0]\n",
            " [0 0 0 ... 0 0 0]\n",
            " [0 0 0 ... 0 0 0]\n",
            " ...\n",
            " [0 0 0 ... 0 0 0]\n",
            " [0 0 0 ... 0 0 0]\n",
            " [0 0 0 ... 0 0 0]]\n"
          ]
        }
      ]
    },
    {
      "cell_type": "markdown",
      "source": [
        "Умножение матриц на CPU"
      ],
      "metadata": {
        "id": "PYvu4oF-GUDB"
      }
    },
    {
      "cell_type": "code",
      "source": [
        "# стартовое время\n",
        "start_time = datetime.datetime.now() \n",
        "C1 = A.dot(B)\n",
        "# затраченное время\n",
        "t1 = datetime.datetime.now() - start_time\n",
        "print(C1)\n",
        "print ('time:  '+ str(t1)) "
      ],
      "metadata": {
        "colab": {
          "base_uri": "https://localhost:8080/"
        },
        "id": "LtoI1jJOGXF6",
        "outputId": "7322a850-396a-42f0-c516-48d2dd4bcd2d"
      },
      "execution_count": 5,
      "outputs": [
        {
          "output_type": "stream",
          "name": "stdout",
          "text": [
            "[[30776762 23822841 25102761 ... 26030878 28898853 26593445]\n",
            " [27490611 22870581 26229180 ... 24682317 26435996 24518172]\n",
            " [27159994 25063168 24907432 ... 26502797 28052044 25911027]\n",
            " ...\n",
            " [30581637 27504542 29263728 ... 30109648 31739160 30626202]\n",
            " [27913397 23408933 24016322 ... 27004157 28560621 27262551]\n",
            " [25256259 21219435 23875290 ... 24649112 26804999 23753811]]\n",
            "time:  0:00:00.002404\n"
          ]
        }
      ]
    },
    {
      "cell_type": "code",
      "source": [
        "'''def matrix_mult_CPU (matrix1, matrix2, matrix3, M):\n",
        "    \n",
        "    for i in range(0, M):\n",
        "        for j in range(0, M):\n",
        "            for k in range(0, M):\n",
        "                matrix3[i][j] += int(matrix1[i][k] * matrix2[k][j])  \n",
        "    \n",
        "    return (matrix3)'''"
      ],
      "metadata": {
        "id": "d1mg0PEoGjhK"
      },
      "execution_count": null,
      "outputs": []
    },
    {
      "cell_type": "code",
      "source": [
        "'''# стартовое время    \n",
        "start_time = datetime.datetime.now()    \n",
        "C2 = matrix_mult_CPU(A, B, C, M)\n",
        "# затраченное время\n",
        "t2 = datetime.datetime.now() - start_time\n",
        "\n",
        "print(C2)\n",
        "print ('time:  '+ str(t2))  '''"
      ],
      "metadata": {
        "colab": {
          "base_uri": "https://localhost:8080/"
        },
        "id": "BazrTCSmHCOS",
        "outputId": "55b90f74-6ce8-4c7c-c596-91587ee84593"
      },
      "execution_count": null,
      "outputs": [
        {
          "output_type": "stream",
          "name": "stdout",
          "text": [
            "[[27907764 24971261 25254942 ... 23439630 23816621 29236771]\n",
            " [25076077 23811393 26032762 ... 23387749 23680996 28011036]\n",
            " [23816981 24256532 24404123 ... 22603924 22069799 25707786]\n",
            " ...\n",
            " [24977442 25339732 25366865 ... 22784153 24348815 26750423]\n",
            " [24497537 22932350 25141208 ... 24050127 22018084 26314261]\n",
            " [28032329 27496579 28237642 ... 26117266 25955740 29954743]]\n",
            "time:  0:00:03.774863\n"
          ]
        }
      ]
    },
    {
      "cell_type": "markdown",
      "source": [
        "Умножение матриц на GPU"
      ],
      "metadata": {
        "id": "X9yRANtUL8T-"
      }
    },
    {
      "cell_type": "code",
      "source": [
        "#Динамический компилятор Cuda\n",
        "@cuda.jit\n",
        "def matrix_mult_GPU(d_a, d_b, d_c):\n",
        "  # определяем массив в общей памяти\n",
        "  shared_a = cuda.shared.array(shape=(TPB, TPB), dtype=int32)\n",
        "  shared_b = cuda.shared.array(shape=(TPB, TPB), dtype=int32)\n",
        "\n",
        "  x, y = cuda.grid(2)\n",
        "  \n",
        "  # Набор встроенных функций CUDA используется для идентификации текущего потока выполнения (используются только внутри ядра CUDA или функции устройства)\n",
        "  t_x = cuda.threadIdx.x\n",
        "  t_y = cuda.threadIdx.y\n",
        "  # количество блоков на сетку\n",
        "  bpg = cuda.gridDim.x  \n",
        "\n",
        "  # Проверка на выход границы\n",
        "  if x >= d_c.shape[0] and y >= d_c.shape[1]:\n",
        "    return\n",
        "\n",
        "  # каждый поток вычисляет один элемент в итоговой матрице, произведение разбивается на произведения векторов длиной TPB\n",
        "  tmp = 0.\n",
        "  for i in range(bpg):\n",
        "    # загружаем данные в общую память\n",
        "    shared_a[t_x, t_y] = d_a[x, t_y + i * TPB]\n",
        "    shared_b[t_x, t_y] = d_b[t_x + i * TPB, y]\n",
        "\n",
        "    # ожидание окончания предварительной загрузки\n",
        "    cuda.syncthreads() \n",
        "    \n",
        "    # вычисление в общей памяти\n",
        "    for j in range(TPB):\n",
        "      tmp += shared_a[t_x, j] * shared_b[j, t_y]\n",
        "\n",
        "    # Ожидание окончания вычисления на всех потоках\n",
        "    cuda.syncthreads()   \n",
        "  d_c[x, y] = tmp"
      ],
      "metadata": {
        "id": "dy6Yzcd12QHP"
      },
      "execution_count": 6,
      "outputs": []
    },
    {
      "cell_type": "code",
      "source": [
        "def body_GPU(grid_size, block_size, d_a, d_b, d_c):\n",
        "  # Перенос данных в глобальную память GPU\n",
        "  d_a = cuda.to_device(A)\n",
        "  d_b = cuda.to_device(B)\n",
        "  d_c = cuda.to_device(C)\n",
        "\n",
        "  # вызов ядра\n",
        "  matrix_mult_GPU[grid_size, block_size](d_a, d_b, d_c)\n",
        "  # Перенос вывода с устройства на хост\n",
        "  GPU_C = d_c.copy_to_host()\n",
        "  return GPU_C\n"
      ],
      "metadata": {
        "id": "_fJ6WZj1Fa7l"
      },
      "execution_count": 20,
      "outputs": []
    },
    {
      "cell_type": "code",
      "source": [
        "grid_size = (10, 10)\n",
        "block_size = (16, 16)\n",
        "# стартовое время\n",
        "start_time = datetime.datetime.now()    \n",
        "GPU_C1=body_GPU(grid_size, block_size, A, B, C)\n",
        "# затраченное время\n",
        "t3 = datetime.datetime.now() - start_time\n",
        "\n",
        "print(GPU_C1)\n",
        "print ('time:  '+ str(t3))"
      ],
      "metadata": {
        "colab": {
          "base_uri": "https://localhost:8080/"
        },
        "id": "uoxArI0wFpOy",
        "outputId": "5c44bfe8-686c-4579-e07e-ffb4d2f72d58"
      },
      "execution_count": 23,
      "outputs": [
        {
          "output_type": "stream",
          "name": "stdout",
          "text": [
            "[[48286289 43614415 42041071 ... 42606079 41610623 42667576]\n",
            " [40455710 37773229 36033659 ... 37945452 36225442 39646263]\n",
            " [45843831 40857970 39947628 ... 40818372 39912680 38720164]\n",
            " ...\n",
            " [50379171 42406190 41654155 ... 43882078 42135953 43398672]\n",
            " [45571325 39780118 39908402 ... 38495392 39106504 42293896]\n",
            " [42240131 37671067 40785132 ... 39083905 38460593 39046878]]\n",
            "time:  0:00:00.007514\n"
          ]
        }
      ]
    },
    {
      "cell_type": "code",
      "source": [
        "'''grid_size = (10, 10)\n",
        "block_size = (16, 16)\n",
        "# стартовое время\n",
        "start_time = datetime.datetime.now()    \n",
        "\n",
        "# Перенос данных в глобальную память GPU\n",
        "d_a = cuda.to_device(A)\n",
        "d_b = cuda.to_device(B)\n",
        "d_c = cuda.to_device(C)\n",
        "\n",
        "# вызов ядра\n",
        "matrix_mult_GPU[grid_size, block_size](d_a, d_b, d_c)\n",
        "# Перенос вывода с устройства на хост\n",
        "GPU_C = d_c.copy_to_host()\n",
        "\n",
        "# затраченное время\n",
        "t3 = datetime.datetime.now() - start_time\n",
        "\n",
        "print(GPU_C)\n",
        "print ('time:  '+ str(t3))'''"
      ],
      "metadata": {
        "colab": {
          "base_uri": "https://localhost:8080/"
        },
        "id": "6UgrS01c2S9J",
        "outputId": "473dc111-5e00-4004-f9a0-b4a6db502888"
      },
      "execution_count": null,
      "outputs": [
        {
          "output_type": "stream",
          "name": "stdout",
          "text": [
            "[[47039330 40448661 42254587 ...        0        0        0]\n",
            " [40619316 35309316 38255705 ...        0        0        0]\n",
            " [48111842 40386128 43165637 ...        0        0        0]\n",
            " ...\n",
            " [       0        0        0 ...        0        0        0]\n",
            " [       0        0        0 ...        0        0        0]\n",
            " [       0        0        0 ...        0        0        0]]\n",
            "time:  0:00:00.515727\n"
          ]
        }
      ]
    },
    {
      "cell_type": "code",
      "source": [
        "result_list = []\n",
        "# размер матриц по условию от 100x100 до 2000х2000, \n",
        "# расчет производится на блоках элементов TPBxTPB (т.е. 16x16)\n",
        "# Количество итераций для вычисления среднего затраченного времени ITER_COUNT = 10\n",
        "\n",
        "for bpg in range(10, 140, 15):\n",
        "  grid_size = (bpg, bpg)\n",
        "  block_size = (TPB, TPB)\n",
        "  \n",
        "  # размер матрицы\n",
        "  M = bpg * TPB\n",
        "\n",
        "  correct_result = True\n",
        "  \n",
        "  dot_time_sum = 0\n",
        "  cpu_time_sum = 0\n",
        "  gpu_time_sum = 0\n",
        "\n",
        "  for _ in range(ITER_COUNT):\n",
        "    # создаем матрицы размера М\n",
        "    A, B, C = create_matrix (M)\n",
        "   \n",
        "    # стартовое время\n",
        "    start = time.time()\n",
        "    CPU_C = A.dot(B)\n",
        "    # затраченное время\n",
        "    dot_time = time.time() - start\n",
        "    dot_time_sum += dot_time\n",
        "\n",
        "    # стартовое время\n",
        "    start = time.time()\n",
        "\n",
        "    GPU_C2 = body_GPU(grid_size, block_size, A, B, C)\n",
        "    \n",
        "    # затраченное время\n",
        "    gpu_time = time.time() - start\n",
        "    gpu_time_sum += gpu_time\n",
        "\n",
        "    # для проверки правильности вычислений на GPU\n",
        "    correct_result = np.array_equal(GPU_C2, CPU_C)\n",
        "\n",
        "  res = [M, correct_result, dot_time_sum / ITER_COUNT, gpu_time_sum / ITER_COUNT]\n",
        "  #print(res)\n",
        "  result_list.append(res)\n"
      ],
      "metadata": {
        "id": "p-oxNQLEp1ym"
      },
      "execution_count": 26,
      "outputs": []
    },
    {
      "cell_type": "code",
      "source": [
        "print(tabulate(result_list, headers=['Matrix size', 'Correct', 'CPU time', 'GPU time']))"
      ],
      "metadata": {
        "colab": {
          "base_uri": "https://localhost:8080/"
        },
        "id": "OwQ0jU8wca_y",
        "outputId": "2af7d0b4-2cf2-40a6-ca51-7f562dc52dfc"
      },
      "execution_count": 27,
      "outputs": [
        {
          "output_type": "stream",
          "name": "stdout",
          "text": [
            "  Matrix size  Correct       CPU time    GPU time\n",
            "-------------  ---------  -----------  ----------\n",
            "          160  True        0.00516961  0.00232291\n",
            "          400  True        0.0957757   0.0071058\n",
            "          640  True        0.694063    0.0174647\n",
            "          880  True        1.01174     0.0392471\n",
            "         1120  True        6.02585     0.0757729\n",
            "         1360  True       13.4636      0.125926\n",
            "         1600  True       16.1497      0.185167\n",
            "         1840  True       21.9112      0.280759\n",
            "         2080  True       34.0479      0.396888\n"
          ]
        }
      ]
    },
    {
      "cell_type": "markdown",
      "source": [
        "Визуализируем полученные данные"
      ],
      "metadata": {
        "id": "GAX6gNXq_Yxk"
      }
    },
    {
      "cell_type": "code",
      "source": [
        "result_matr = np.array(result_list)\n",
        "plt.figure(figsize=(25, 5))\n",
        "\n",
        "plt.subplot(1, 3, 1)\n",
        "plt.title('Среднее время работы на CPU')\n",
        "plt.plot(result_matr[:, 0], result_matr[:, 2])\n",
        "plt.xlabel('Размер матрицы')\n",
        "plt.ylabel('Время (мс)')\n",
        "plt.grid()\n",
        "\n",
        "plt.subplot(1, 3, 2)\n",
        "plt.title('Среднее время работы на GPU')\n",
        "plt.plot(result_matr[:, 0], result_matr[:, 3])\n",
        "plt.xlabel('Размер матрицы')\n",
        "plt.ylabel('Время (мс)')\n",
        "plt.grid()\n",
        "\n",
        "plt.subplot(1, 3, 3)\n",
        "plt.title('Ускорение')\n",
        "plt.plot(result_matr[:, 0], (result_matr[:, 2]/result_matr[:, 3]))\n",
        "plt.xlabel('Размер матрицы')\n",
        "plt.ylabel('Соотношение CPU к GPU')\n",
        "plt.grid()"
      ],
      "metadata": {
        "colab": {
          "base_uri": "https://localhost:8080/",
          "height": 332
        },
        "id": "BUe2jEtY_cYM",
        "outputId": "5dbfdd8f-5e54-41f4-df72-e9c569ab8ac9"
      },
      "execution_count": 28,
      "outputs": [
        {
          "output_type": "display_data",
          "data": {
            "image/png": "[encoded data removed]",
            "text/plain": [
              "<Figure size 1800x360 with 3 Axes>"
            ]
          },
          "metadata": {
            "needs_background": "light"
          }
        }
      ]
    }
  ]
}